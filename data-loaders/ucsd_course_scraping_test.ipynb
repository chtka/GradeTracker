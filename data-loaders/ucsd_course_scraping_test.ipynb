{
 "cells": [
  {
   "cell_type": "code",
   "execution_count": 8,
   "metadata": {},
   "outputs": [],
   "source": [
    "from bs4 import BeautifulSoup\n",
    "import requests\n",
    "import re"
   ]
  },
  {
   "cell_type": "code",
   "execution_count": 9,
   "metadata": {},
   "outputs": [],
   "source": [
    "UCSD_COURSE_CATALOG_BASE_URL = 'http://www.ucsd.edu/catalog/'\n",
    "UCSD_COURSE_CATALOG_MAIN_PAGE_URL = 'http://www.ucsd.edu/catalog/front/courses.html'"
   ]
  },
  {
   "cell_type": "code",
   "execution_count": 10,
   "metadata": {},
   "outputs": [],
   "source": [
    "response = requests.get(UCSD_COURSE_CATALOG_MAIN_PAGE_URL)"
   ]
  },
  {
   "cell_type": "code",
   "execution_count": 11,
   "metadata": {},
   "outputs": [],
   "source": [
    "main_page_soup = BeautifulSoup(response.text, 'lxml')"
   ]
  },
  {
   "cell_type": "code",
   "execution_count": 12,
   "metadata": {},
   "outputs": [],
   "source": [
    "courses_tags = main_page_soup.findAll('a', string='courses')\n",
    "courses_tags_partial_urls = map(lambda a: a['href'][3:], courses_tags)"
   ]
  },
  {
   "cell_type": "code",
   "execution_count": 39,
   "metadata": {},
   "outputs": [
    {
     "data": {
      "text/plain": [
       "<map at 0x1c0b04f0da0>"
      ]
     },
     "execution_count": 39,
     "metadata": {},
     "output_type": "execute_result"
    }
   ],
   "source": [
    "courses_tags_partial_urls"
   ]
  },
  {
   "cell_type": "code",
   "execution_count": 40,
   "metadata": {},
   "outputs": [
    {
     "name": "stdout",
     "output_type": "stream",
     "text": [
      "courses/AIP.html\n",
      "courses/AASM.html\n",
      "courses/AWP.html\n",
      "courses/ANTH.html\n",
      "courses/AUDL.html\n",
      "courses/BIOI.html\n",
      "courses/BIOL.html\n",
      "courses/BIOM.html\n",
      "courses/CHEM.html\n",
      "courses/CHIN.html\n",
      "courses/CLAS.html\n",
      "courses/CSP.html\n",
      "courses/CLIN.html\n",
      "courses/CLRE.html\n",
      "courses/COGS.html\n",
      "courses/COMM.html\n",
      "courses/CONT.html\n",
      "courses/CGS.html\n",
      "courses/CAT.html\n",
      "courses/DSC.html\n",
      "courses/DSGN.html\n",
      "courses/DOC.html\n",
      "courses/ECON.html\n",
      "courses/EDS.html\n",
      "courses/SOE.html\n",
      "courses/BENG.html\n",
      "courses/CSE.html\n",
      "courses/ECE.html\n",
      "courses/MAE.html\n",
      "courses/NANO.html\n",
      "courses/SE.html\n",
      "courses/ENVR.html\n",
      "courses/ESYS.html\n",
      "courses/ETHN.html\n",
      "courses/FMPH.html\n",
      "courses/FILM.html\n",
      "courses/GHP.html\n",
      "courses/GPS.html\n",
      "courses/LHCO.html\n",
      "courses/HLAW.html\n",
      "courses/HIST.html\n",
      "courses/HDP.html\n",
      "courses/HR.html\n",
      "courses/HUM.html\n",
      "courses/IMSM.html\n",
      "courses/INTL.html\n",
      "courses/JAPN.html\n",
      "courses/JUDA.html\n",
      "courses/LATI.html\n",
      "courses/LAWS.html\n",
      "courses/LING.html\n",
      "courses/LIT.html\n",
      "courses/MMW.html\n",
      "courses/RSM.html\n",
      "courses/TMC.html\n",
      "courses/MATS.html\n",
      "courses/MATH.html\n",
      "courses/MSED.html\n",
      "courses/MCWP.html\n",
      "courses/MUS.html\n",
      "courses/NEU.html\n",
      "courses/PHIL.html\n",
      "courses/PHYS.html\n",
      "courses/POLI.html\n",
      "courses/PSYC.html\n",
      "courses/RELI.html\n",
      "courses/REV.html\n",
      "courses/ERC.html\n",
      "courses/SCIS.html\n",
      "courses/SXTH.html\n",
      "courses/SOC.html\n",
      "courses/THEA.html\n",
      "courses/TWS.html\n",
      "courses/USP.html\n",
      "courses/VIS.html\n",
      "courses/WARR.html\n"
     ]
    }
   ],
   "source": [
    "for x in courses_tags_partial_urls:\n",
    "    print(x)"
   ]
  },
  {
   "cell_type": "code",
   "execution_count": 14,
   "metadata": {},
   "outputs": [],
   "source": [
    "test_url = 'http://www.ucsd.edu/catalog/courses/CHEM.html'"
   ]
  },
  {
   "cell_type": "code",
   "execution_count": 15,
   "metadata": {},
   "outputs": [],
   "source": [
    "response = requests.get(test_url)"
   ]
  },
  {
   "cell_type": "code",
   "execution_count": 16,
   "metadata": {},
   "outputs": [],
   "source": [
    "course_page_soup = BeautifulSoup(response.text, 'lxml')"
   ]
  },
  {
   "cell_type": "code",
   "execution_count": 17,
   "metadata": {},
   "outputs": [],
   "source": [
    "course_tags = course_page_soup.findAll('p', class_='course-name')"
   ]
  },
  {
   "cell_type": "code",
   "execution_count": 38,
   "metadata": {},
   "outputs": [
    {
     "name": "stdout",
     "output_type": "stream",
     "text": [
      "CHEM 1 The Scope of Chemistry and Biochemistry (1)\n",
      "CHEM 4 Basic Chemistry (4)\n",
      "CHEM 6A General Chemistry I (4)\n",
      "CHEM 6AH Honors General Chemistry I (4)\n",
      "CHEM 6B General Chemistry II (4)\n",
      "CHEM 6BH Honors General Chemistry II (4)\n",
      "CHEM 6C General Chemistry III (4)\n",
      "CHEM 6CH Honors General Chemistry III (4)\n",
      "CHEM 7L General Chemistry Laboratory (4)\n",
      "CHEM 7LM General Chemistry Laboratory for Majors (4)\n",
      "CHEM 11 The Periodic Table (4)\n",
      "CHEM 12 Molecules and Reactions (4)\n",
      "CHEM 13 Chemistry of Life (4)\n",
      "CHEM 40A Organic Chemistry I (4)\n",
      "CHEM 40B Organic Chemistry II (4)\n",
      "CHEM 40BH Honors Organic Chemistry (4)\n",
      "CHEM 40C Organic Chemistry III (4)\n",
      "CHEM 40CH Honors Organic Chemistry (4)\n",
      "CHEM 43A Organic Chemistry Laboratory (4)\n",
      "CHEM 43AM Organic Chemistry Laboratory for Majors (4)\n",
      "CHEM 87 Freshman Seminar in Chemistry and Biochemistry (1)\n",
      "CHEM 96 Introduction to Teaching Science (2)\n",
      "CHEM 99 Independent Study (2 or 4)\n",
      "CHEM 99R Independent Study (1)\n",
      "CHEM 100A Analytical Chemistry Laboratory (4)\n",
      "CHEM 100B Instrumental Chemistry Laboratory (5)\n",
      "CHEM 105A Physical Chemistry Laboratory (4)\n",
      "CHEM 105B Physical Chemistry Laboratory (4)\n",
      "CHEM 108 Protein Biochemistry Laboratory (6)\n",
      "CHEM 109 Recombinant DNA Laboratory (6)\n",
      "CHEM 111 Origins of Life and the Universe (4)\n",
      "CHEM 113 Physical Chemistry of Biological Macromolecules\n",
      "\t\t\t\t  (4)\n",
      "CHEM 114A Biochemical Structure and Function (4)\n",
      "CHEM 114B Biochemical Energetics and Metabolism (4)\n",
      "CHEM 114C Biosynthesis of Macromolecules (4)\n",
      "CHEM 114D Molecular and Cellular Biochemistry (4)\n",
      "CHEM 116 Chemistry of Enzyme Catalyzed Reactions (4)\n",
      "CHEM 118 Pharmacology and Toxicology (4)\n",
      "CHEM 120A Inorganic Chemistry I (4)\n",
      "CHEM 120B Inorganic Chemistry II (4)\n",
      "CHEM 123 Advanced Inorganic Chemistry Laboratory (4)\n",
      "CHEM 125 Bioinorganic Chemistry (4)\n",
      "CHEM 126 Physical Chemistry: Quantum Mechanics (4)\n",
      "CHEM 127 Physical Chemistry: Thermodynamics  (4)\n",
      "CHEM 130 Chemical Physics: Quantum Mechanics (4)\n",
      "CHEM 131 Chemical Physics: Stat Thermo I  (4)\n",
      "CHEM 132 Chemical Physics: Stat Thermo II  (4)\n",
      "CHEM 134 Polymeric Materials (4)\n",
      "CHEM 135 Molecular Spectroscopy (4)\n",
      "CHEM 141 Organic Nanomaterials (4)\n",
      "CHEM 142 Introduction to Glycosciences (4)\n",
      "CHEM 143B Organic Chemistry Laboratory (4)\n",
      "CHEM 143C Organic Chemistry Laboratory (5)\n",
      "CHEM 143D Molecular Design and Synthesis (4)\n",
      "CHEM 145 Chemistry and Biochemistry of Biofuels (4)\n",
      "CHEM 146 Kinetics and Mechanism of Organic Reactions (4)\n",
      "CHEM 151 Molecules that Changed the World (4)\n",
      "CHEM 152 Synthetic Methods in Organic Chemistry (4)\n",
      "CHEM 154 Mechanisms of Organic Reactions (4)\n",
      "CHEM 155 Synthesis of Complex Molecules (4)\n",
      "CHEM 156 Structure\n",
      "\t\t  and Properties of Organic Molecules (4)\n",
      "CHEM 157 Bioorganic and Natural Products Chemistry (4)\n",
      "CHEM 158 Applied Spectroscopy (4)\n",
      "CHEM 164 Structural Biology of Viruses (4)\n",
      "CHEM 165 3D Electron Microscopy of Macromolecules (4)\n",
      "CHEM 167 Medicinal Chemistry (4)\n",
      "CHEM 168 Drug Synthesis and Design (4)\n",
      "CHEM 171 Environmental Chemistry I (4)\n",
      "CHEM 172 Environmental Chemistry II (4)\n",
      "CHEM 173 Atmospheric Chemistry (4)\n",
      "CHEM 174 Chemical Principles of Marine Systems (4)\n",
      "CHEM 182 Biological Databases (4)\n",
      "CHEM 184 Computational Molecular Biology (4)\n",
      "CHEM 185 Introduction to Computational Chemistry (4)\n",
      "CHEM 187 Foundations\n",
      "\t\t  of Teaching and Learning Science (4)\n",
      "CHEM 188 Capstone Seminar in Science Education (4)\n",
      "CHEM 192 Senior Seminar\n",
      "\t\t  in Chemistry and Biochemistry (1)\n",
      "CHEM 194 Special Topics in Chemistry (2 or 4)\n",
      "CHEM 195 Methods of Teaching Chemistry (4)\n",
      "CHEM 196 Reading and Research in Chemical Education (2 or 4)\n",
      "CHEM 197 Chemistry Internship (2 or 4)\n",
      "CHEM 198 Directed Group Study (1–4)\n",
      "CHEM 199 Reading and Research (2 or 4)\n",
      "CHEM 200B Fundamentals of Instrumental Analysis (4)\n",
      "CHEM 204 Introduction to X-ray Crystallography (4)\n",
      "CHEM 207 Protein NMR (4)\n",
      "CHEM 209 Macromolecular Recognition (4)\n",
      "CHEM 210 Lipid Cell Signaling Genomics, Proteomics, and Metabolomics (2)\n",
      "CHEM 213A Structure of Biomolecules and Biomolecular Assemblies (4)\n",
      "CHEM 213B Biophysical Chemistry of Macromolecules (4)\n",
      "CHEM 214 Molecular and Cellular Biochemistry (4)\n",
      "CHEM 216 Chemical Biology (4)\n",
      "CHEM 217 RNA Structure, Function, and Biology (4)\n",
      "CHEM 219A Special Topics in Biochemistry (4)\n",
      "CHEM 219B Special Topics in Biochemistry (4)\n",
      "CHEM 219C Special Topics in Biochemistry (2 or 4)\n",
      "CHEM 220 Regulatory Circuits in Cells (4)\n",
      "CHEM 221 Signal Transduction (4)\n",
      "CHEM 222 Structure and Analysis of Solids (4)\n",
      "CHEM 223 Organometallic Chemistry (4)\n",
      "CHEM 224 Spectroscopic Techniques (4)\n",
      "CHEM 225 Bioinorganic Chemistry (4)\n",
      "CHEM 226 Transition Metal Chemistry (4)\n",
      "CHEM 227 Seminar in Inorganic Chemistry (2)\n",
      "CHEM 228 Solid State Chemistry (4)\n",
      "CHEM 229 Special Topics in Inorganic Chemistry (2–4)\n",
      "CHEM 230A Quantum Mechanics I (4)\n",
      "CHEM 230B Quantum\n",
      "          Mechanics II (4)\n",
      "CHEM 231 Chemical Kinetics and Molecular Reaction Dynamics (4)\n",
      "CHEM 232A Statistical Mechanics I (4)\n",
      "CHEM 232B Statistical Mechanics II (4)\n",
      "CHEM 235 Molecular Spectroscopy (4)\n",
      "CHEM 236 Chemical Dynamics on Surfaces (4)\n",
      "CHEM 239 Special Topics in Chemical Physics (2 or 4)\n",
      "CHEM 240 Electrochemistry (4)\n",
      "CHEM 241 Organic Nanomaterials (4)\n",
      "CHEM 242 Introduction to Glycosciences (4)\n",
      "CHEM 246 Kinetics and Mechanism (4)\n",
      "CHEM 250 Research Survival Skills  (2)\n",
      "CHEM 251 Research Conference (2)\n",
      "CHEM 252 Synthetic Methods in Organic Chemistry (4)\n",
      "CHEM 253 Antibiotics (4)\n",
      "CHEM 254 Mechanisms of Organic Reactions (4)\n",
      "CHEM 255 Synthesis of Complex Molecules (4)\n",
      "CHEM 256 Structure\n",
      "\t\t  and Properties of Organic Molecules (4)\n",
      "CHEM 257 Biorganic and Natural Products Chemistry (4)\n",
      "CHEM 258 Applied Spectroscopy (4)\n",
      "CHEM 259 Special Topics in Organic Chemistry (2–4)\n",
      "CHEM 260 Light and Electron Microscopy of Cells and Tissue (4)\n",
      "CHEM 262 Inorganic Chemistry and NMR (4)\n",
      "CHEM 264 Structural Biology of Viruses (4)\n",
      "CHEM 265 3D Electron Microscopy of Macromolecules (4)\n",
      "CHEM 270A-B-C Current Topics in Environmental Chemistry (2-2-2)\n",
      "CHEM 271 Special Topics in Analytical Chemistry (4)\n",
      "CHEM 273 Atmospheric Chemistry (4)\n",
      "CHEM 276 Numerical Analysis in Multiscale Biology (4)\n",
      "CHEM 280 Applied Bioinformatics\n",
      "                  (4)\n",
      "CHEM 283 Supramolecular Structure Determination Laboratory (4)\n",
      "CHEM 285 Introduction to Computational Chemistry (4)\n",
      "CHEM 294 Organic Chemistry Seminar (2)\n",
      "CHEM 295 Biochemistry Seminar (2)\n",
      "CHEM 296 Chemical Physics Seminar (2)\n",
      "CHEM 297 Experimental Methods in Chemistry (4)\n",
      "CHEM 298 Special Study in Chemistry (1–4)\n",
      "CHEM 299 Research in Chemistry (1–12)\n",
      "CHEM 500 Apprentice Teaching (4)\n",
      "CHEM 509 Teaching Methods in Chemistry and Biochemistry (2)\n"
     ]
    }
   ],
   "source": [
    "for tag in course_tags:\n",
    "    text = tag.text\n",
    "    split1 = text.split('.')\n",
    "    split2 = split1[0].split(' ')\n",
    "    \n",
    "    department = split2[0]\n",
    "    number = split2[1]\n",
    "    \n",
    "    verbose_name = split1[1].strip()\n",
    "    \n",
    "    print(department, number, verbose_name)"
   ]
  },
  {
   "cell_type": "code",
   "execution_count": null,
   "metadata": {},
   "outputs": [],
   "source": []
  }
 ],
 "metadata": {
  "kernelspec": {
   "display_name": "Python 3",
   "language": "python",
   "name": "python3"
  },
  "language_info": {
   "codemirror_mode": {
    "name": "ipython",
    "version": 3
   },
   "file_extension": ".py",
   "mimetype": "text/x-python",
   "name": "python",
   "nbconvert_exporter": "python",
   "pygments_lexer": "ipython3",
   "version": "3.6.5"
  }
 },
 "nbformat": 4,
 "nbformat_minor": 2
}
